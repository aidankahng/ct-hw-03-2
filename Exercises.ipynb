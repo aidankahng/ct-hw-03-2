{
 "cells": [
  {
   "cell_type": "markdown",
   "metadata": {},
   "source": [
    "#### Exercise 1 - Class Inheritance"
   ]
  },
  {
   "cell_type": "markdown",
   "metadata": {},
   "source": [
    "Create an Employee class that sets an employee's first name, last name, job title, salary, and email. The Employee class should have a class attribute for the raise amount set to 5% (1.05). Create a method that will apply the raise to an employee's salary."
   ]
  },
  {
   "cell_type": "code",
   "execution_count": 1,
   "metadata": {},
   "outputs": [],
   "source": [
    "# Write the Employee Parent Class Here\n",
    "class Employee:\n",
    "    def __init__(self, first, last, title, salary):\n",
    "        self.first = first.title()\n",
    "        self.last = last.title()\n",
    "        self.title = title\n",
    "        self.salary = salary\n",
    "        self.email = f'{first[0].lower()}.{last.lower()}@companyemail.com'\n",
    "    \n",
    "    def __str__(self):\n",
    "        return f\"{self.title} {self.first} {self.last} has salary: ${self.salary:.2f} and email: {self.email}\"\n",
    "    \n",
    "    def raise_salary(self, perc_raise=0.1):\n",
    "        print(f\"{self.first} recieved a raise of {perc_raise * 100}%\")\n",
    "        self.salary *= 1 + perc_raise\n",
    "        print(f\"{self.first} now has a salary of ${self.salary:.2f}\")"
   ]
  },
  {
   "cell_type": "markdown",
   "metadata": {},
   "source": [
    "Create two more classes that inherit from the Employee class. One for Sales and one for Development. Both of these classes will have the same attributes as the Employee.<br>\n",
    "- For the Sales employees, add a phone number attribute on instantiation using the super method. \n",
    "- Create a method on the Sales class that will \"Send a Follow Up Email\". It should take in a customer name and \"send\" aka print a formatted email \"Dear *customer*, Thank you for your interest in our product. Please let me know if you have any questions. My email is *email* or my phone number is *phone number*. Thanks, *full name*\"\n",
    "- Create a method on the Development class called code that will print out \"*full name* is writing code\"."
   ]
  },
  {
   "cell_type": "code",
   "execution_count": 2,
   "metadata": {},
   "outputs": [],
   "source": [
    "# Write the Sales child Class Here\n",
    "class Sales(Employee):\n",
    "    def __init__(self, first, last, salary, number):\n",
    "        super().__init__(first, last, 'Sales', salary)\n",
    "        self.number = number\n",
    "    \n",
    "    def follow_up_email(self, customer):\n",
    "        print(f\"\"\"\n",
    "        Dear {customer},\n",
    "        Thank you for your interest in our product. Please let me know if you have any questions.\n",
    "        My email is {self.email} and my phone number is {self.number}.\n",
    "        Thanks,\n",
    "        {self.first} {self.last}\"\"\")\n"
   ]
  },
  {
   "cell_type": "code",
   "execution_count": 3,
   "metadata": {},
   "outputs": [],
   "source": [
    "# Write the Development child Class Here\n",
    "class Development(Employee):\n",
    "    def __init__(self, first, last, salary):\n",
    "        super().__init__(first, last, 'Development', salary)\n",
    "    \n",
    "    def code(self):\n",
    "        print(f\"{self.first} {self.last} is writing code\")\n",
    "\n"
   ]
  },
  {
   "cell_type": "markdown",
   "metadata": {},
   "source": [
    "- Create an instance of a Sales Employee with a salary of $50,000.\n",
    "- Send follow up emails to \"Mike O'Neil\" and \"Hannah Stern\"\n",
    "- Give the employee a raise and print the salary"
   ]
  },
  {
   "cell_type": "code",
   "execution_count": 4,
   "metadata": {},
   "outputs": [
    {
     "name": "stdout",
     "output_type": "stream",
     "text": [
      "Sales Zachariah Longbottom has salary: $50000.00 and email: z.longbottom@companyemail.com\n"
     ]
    }
   ],
   "source": [
    "# Create the instance\n",
    "emp1 = Sales('zachariah', 'longbottom', 50000, '743 153-9696')\n",
    "print(emp1)"
   ]
  },
  {
   "cell_type": "code",
   "execution_count": 5,
   "metadata": {},
   "outputs": [
    {
     "name": "stdout",
     "output_type": "stream",
     "text": [
      "\n",
      "        Dear Mike O'Neil,\n",
      "        Thank you for your interest in our product. Please let me know if you have any questions.\n",
      "        My email is z.longbottom@companyemail.com and my phone number is 743 153-9696.\n",
      "        Thanks,\n",
      "        Zachariah Longbottom\n"
     ]
    }
   ],
   "source": [
    "# Send follow up to Mike\n",
    "emp1.follow_up_email(\"Mike O'Neil\")"
   ]
  },
  {
   "cell_type": "code",
   "execution_count": 6,
   "metadata": {},
   "outputs": [
    {
     "name": "stdout",
     "output_type": "stream",
     "text": [
      "\n",
      "        Dear Hannah Stern,\n",
      "        Thank you for your interest in our product. Please let me know if you have any questions.\n",
      "        My email is z.longbottom@companyemail.com and my phone number is 743 153-9696.\n",
      "        Thanks,\n",
      "        Zachariah Longbottom\n"
     ]
    }
   ],
   "source": [
    "# Send follow up to Hannah\n",
    "emp1.follow_up_email(\"Hannah Stern\")"
   ]
  },
  {
   "cell_type": "code",
   "execution_count": 7,
   "metadata": {},
   "outputs": [
    {
     "name": "stdout",
     "output_type": "stream",
     "text": [
      "Zachariah recieved a raise of 10.0%\n",
      "Zachariah now has a salary of $55000.00\n"
     ]
    }
   ],
   "source": [
    "# Give the sales employee a raise\n",
    "emp1.raise_salary()"
   ]
  },
  {
   "cell_type": "markdown",
   "metadata": {},
   "source": [
    "- Create an instance of a Development Employee with a salary of $100,000\n",
    "- Write some code with this employee\n",
    "- Give the employee a raise and print the salary"
   ]
  },
  {
   "cell_type": "code",
   "execution_count": 8,
   "metadata": {},
   "outputs": [
    {
     "name": "stdout",
     "output_type": "stream",
     "text": [
      "Development Michael Kingsley has salary: $120000.00 and email: m.kingsley@companyemail.com\n"
     ]
    }
   ],
   "source": [
    "# Create the instance\n",
    "emp2 = Development('Michael', 'Kingsley', 120000)\n",
    "print(emp2)"
   ]
  },
  {
   "cell_type": "code",
   "execution_count": 9,
   "metadata": {},
   "outputs": [
    {
     "name": "stdout",
     "output_type": "stream",
     "text": [
      "Michael Kingsley is writing code\n"
     ]
    }
   ],
   "source": [
    "# Write some code (call code method)\n",
    "emp2.code()"
   ]
  },
  {
   "cell_type": "code",
   "execution_count": 10,
   "metadata": {},
   "outputs": [
    {
     "name": "stdout",
     "output_type": "stream",
     "text": [
      "Michael recieved a raise of 10.0%\n",
      "Michael now has a salary of $132000.00\n"
     ]
    }
   ],
   "source": [
    "# Give the dev employee a raise\n",
    "emp2.raise_salary()"
   ]
  },
  {
   "cell_type": "markdown",
   "metadata": {},
   "source": [
    "#### Exercise 2 - Importing Modules"
   ]
  },
  {
   "cell_type": "markdown",
   "metadata": {},
   "source": [
    "In VS Code, create a module titled `geometry` and add two functions in there. One that will calculate the area of a circle given a radius. The second will find the hypotenuse of a right angle given the two sides. Import the module or the functions from the module and use it to find the answers to the below questions"
   ]
  },
  {
   "cell_type": "code",
   "execution_count": 11,
   "metadata": {},
   "outputs": [],
   "source": [
    "from geometry import circle_area, get_hypotenuse"
   ]
  },
  {
   "cell_type": "markdown",
   "metadata": {},
   "source": [
    "What is the area of a circle with a radius of 7cm?"
   ]
  },
  {
   "cell_type": "code",
   "execution_count": 12,
   "metadata": {},
   "outputs": [
    {
     "data": {
      "text/plain": [
       "153.93804002589985"
      ]
     },
     "execution_count": 12,
     "metadata": {},
     "output_type": "execute_result"
    }
   ],
   "source": [
    "# ~153.94\n",
    "circle_area(7)"
   ]
  },
  {
   "cell_type": "markdown",
   "metadata": {},
   "source": [
    "What is the hypotenuse of a right angle with sides of 3in and 4in?"
   ]
  },
  {
   "cell_type": "code",
   "execution_count": 13,
   "metadata": {},
   "outputs": [
    {
     "data": {
      "text/plain": [
       "5.0"
      ]
     },
     "execution_count": 13,
     "metadata": {},
     "output_type": "execute_result"
    }
   ],
   "source": [
    "# 5 inches\n",
    "get_hypotenuse(3, 4)"
   ]
  },
  {
   "cell_type": "code",
   "execution_count": null,
   "metadata": {},
   "outputs": [],
   "source": []
  }
 ],
 "metadata": {
  "kernelspec": {
   "display_name": "Python 3 (ipykernel)",
   "language": "python",
   "name": "python3"
  },
  "language_info": {
   "codemirror_mode": {
    "name": "ipython",
    "version": 3
   },
   "file_extension": ".py",
   "mimetype": "text/x-python",
   "name": "python",
   "nbconvert_exporter": "python",
   "pygments_lexer": "ipython3",
   "version": "3.11.5"
  }
 },
 "nbformat": 4,
 "nbformat_minor": 4
}
